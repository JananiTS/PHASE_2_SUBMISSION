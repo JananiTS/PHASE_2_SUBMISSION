{
  "cells": [
    {
      "cell_type": "code",
      "execution_count": null,
      "metadata": {
        "id": "uUgEMW9Ob-23"
      },
      "outputs": [],
      "source": [
        "from google.colab import drive\n",
        "import pandas as pd\n",
        "from sklearn.model_selection import train_test_split\n",
        "from sklearn.ensemble import RandomForestClassifier\n",
        "from sklearn.metrics import classification_report\n",
        "\n",
        "# Step 1: Mount Google Drive\n",
        "drive.mount('/content/drive')\n",
        "\n",
        "# Step 2: Data Loading and Preprocessing (Assuming you have a dataset)\n",
        "file_path = '/content/drive/My Drive/my project/creditcard.csv'  # Update with the correct file path\n",
        "data = pd.read_csv(file_path)\n",
        "\n",
        "# Step 3: Feature Engineering (You may need to perform more advanced feature engineering)\n",
        "# Example: Scaling 'Amount' and 'Time' features\n",
        "from sklearn.preprocessing import StandardScaler\n",
        "scaler = StandardScaler()\n",
        "data['scaled_amount'] = scaler.fit_transform(data['Amount'].values.reshape(-1, 1))\n",
        "data['scaled_time'] = scaler.fit_transform(data['Time'].values.reshape(-1, 1))\n",
        "data.drop(['Time', 'Amount'], axis=1, inplace=True)\n",
        "\n",
        "# Step 4: Data Splitting\n",
        "X = data.drop('Class', axis=1)\n",
        "y = data['Class']\n",
        "X_train, X_test, y_train, y_test = train_test_split(X, y, test_size=0.2, random_state=42)\n",
        "\n",
        "# Step 5: Model Selection and Training (Random Forest as an example)\n",
        "model = RandomForestClassifier(random_state=42)\n",
        "model.fit(X_train, y_train)\n",
        "\n",
        "# Step 6: Evaluation\n",
        "y_pred = model.predict(X_test)\n",
        "print(classification_report(y_test, y_pred))\n",
        "\n",
        "# Step 7: Real-Time Implementation (In this simplified example, we don't cover real-time implementation)\n"
      ]
    }
  ],
  "metadata": {
    "accelerator": "GPU",
    "colab": {
      "provenance": []
    },
    "kernelspec": {
      "display_name": "Python 3",
      "name": "python3"
    },
    "language_info": {
      "name": "python"
    }
  },
  "nbformat": 4,
  "nbformat_minor": 0
}